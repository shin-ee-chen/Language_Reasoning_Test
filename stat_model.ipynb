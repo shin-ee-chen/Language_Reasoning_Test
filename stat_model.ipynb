{
 "cells": [
  {
   "cell_type": "code",
   "execution_count": 22,
   "metadata": {},
   "outputs": [
    {
     "name": "stdout",
     "output_type": "stream",
     "text": [
      "The rpy2.ipython extension is already loaded. To reload it, use:\n",
      "  %reload_ext rpy2.ipython\n"
     ]
    }
   ],
   "source": [
    "%load_ext rpy2.ipython"
   ]
  },
  {
   "cell_type": "markdown",
   "metadata": {},
   "source": [
    "## 1. Active/passive"
   ]
  },
  {
   "cell_type": "code",
   "execution_count": 23,
   "metadata": {},
   "outputs": [
    {
     "data": {
      "text/plain": [
       "[1] 2452   19\n",
       "  image_id                                caption tag len_caption\n",
       "1      411              the woman watches the man   0           5\n",
       "2      411        the man is watched by the woman   1           7\n",
       "3      411              the man watches the woman   2           5\n",
       "4      411        the woman is watched by the man   3           7\n",
       "5      675       the standing man watches the man   0           6\n",
       "6      675 the man is watched by the standing man   1           8\n",
       "  active.passive verb_class  noun_order SVO_order gruen_score vilbert_score\n",
       "1         active    watches 0.694744527 0.9895321   0.8639431    0.97047836\n",
       "2        passive    watches 0.694744527 0.9895321   0.9110845    0.98826283\n",
       "3         active    watches 0.694744527 0.9895321   0.8701214    0.97966808\n",
       "4        passive    watches 0.694744527 0.9895321   0.9001750    0.98909175\n",
       "5         active    watches 0.008183095 0.2127303   0.8274841    0.09765378\n",
       "6        passive    watches 0.008183095 0.2127303   0.9063075    0.14911616\n",
       "  lxmert_score clip_score vilbert_acc lxmert_acc clip_acc  left_area right_area\n",
       "1    0.9567578  0.5206299           0          0        0 0.27862549 0.27923584\n",
       "2    0.9923625  0.5621338           1          1        1 0.27923584 0.27862549\n",
       "3    0.9675015  0.5499268           1          1        1 0.27923584 0.27862549\n",
       "4    0.9925998  0.5560303           0          0        0 0.27862549 0.27923584\n",
       "5    0.2690358  0.5322266           0          0        0 0.03885000 0.05014583\n",
       "6    0.4558562  0.5422974           1          1        1 0.05014583 0.03885000\n",
       "  avg_concretness avg_freq\n",
       "1           4.535 18.20505\n",
       "2           4.535 18.20505\n",
       "3           4.535 18.20505\n",
       "4           4.535 18.20505\n",
       "5           4.385 17.99393\n",
       "6           4.385 17.99393\n"
      ]
     },
     "metadata": {},
     "output_type": "display_data"
    }
   ],
   "source": [
    "%%R\n",
    "active_passive<-read.csv(file ='/Users/xinyichen/Desktop/Thesis/Dataset_Construction/datasets/analysis/active_passive_scores.csv')\n",
    "print(dim(active_passive))\n",
    "\n",
    "head(active_passive)"
   ]
  },
  {
   "cell_type": "markdown",
   "metadata": {},
   "source": [
    "n_zeros: 1196 / 2452 = 0.4878\n",
    "n_ones: 1256 / 2452 = 0.5122\n",
    "\n",
    "51.22\n",
    "\n"
   ]
  },
  {
   "cell_type": "markdown",
   "metadata": {},
   "source": [
    "### A. Model Logit scores"
   ]
  },
  {
   "cell_type": "code",
   "execution_count": 24,
   "metadata": {},
   "outputs": [
    {
     "data": {
      "text/plain": [
       "\n",
       "Call:\n",
       "lm(formula = vilbert_score ~ len_caption + active.passive + gruen_score + \n",
       "    left_area + right_area + avg_concretness + avg_freq + verb_class, \n",
       "    data = active_passive)\n",
       "\n",
       "Residuals:\n",
       "     Min       1Q   Median       3Q      Max \n",
       "-0.82296 -0.22359  0.09919  0.23745  0.58154 \n",
       "\n",
       "Coefficients:\n",
       "                       Estimate Std. Error t value Pr(>|t|)    \n",
       "(Intercept)            2.103896   0.248264   8.474  < 2e-16 ***\n",
       "len_caption            0.019309   0.012800   1.509  0.13153    \n",
       "active.passivepassive -0.025422   0.029475  -0.863  0.38849    \n",
       "gruen_score           -0.360557   0.198426  -1.817  0.06933 .  \n",
       "left_area              0.290570   0.039734   7.313 3.53e-13 ***\n",
       "right_area             0.253045   0.039739   6.368 2.29e-10 ***\n",
       "avg_concretness        0.057643   0.026743   2.155  0.03122 *  \n",
       "avg_freq              -0.092901   0.006727 -13.810  < 2e-16 ***\n",
       "verb_classfeeds        0.219770   0.048562   4.526 6.31e-06 ***\n",
       "verb_classhelps        0.289722   0.044092   6.571 6.10e-11 ***\n",
       "verb_classholds        0.114461   0.039580   2.892  0.00386 ** \n",
       "verb_classlooks at     0.030844   0.042880   0.719  0.47201    \n",
       "verb_classother        0.063187   0.036105   1.750  0.08023 .  \n",
       "verb_classwatches      0.105508   0.034350   3.072  0.00215 ** \n",
       "---\n",
       "Signif. codes:  0 '***' 0.001 '**' 0.01 '*' 0.05 '.' 0.1 ' ' 1\n",
       "\n",
       "Residual standard error: 0.3133 on 2438 degrees of freedom\n",
       "Multiple R-squared:  0.1496,\tAdjusted R-squared:  0.145 \n",
       "F-statistic: 32.98 on 13 and 2438 DF,  p-value: < 2.2e-16\n",
       "\n"
      ]
     },
     "metadata": {},
     "output_type": "display_data"
    }
   ],
   "source": [
    "%%R\n",
    "vilbert_lm = lm(vilbert_score~len_caption + active.passive + \n",
    "                gruen_score + left_area + right_area + \n",
    "                avg_concretness + avg_freq + verb_class, \n",
    "                data = active_passive)\n",
    "summary(vilbert_lm) "
   ]
  },
  {
   "cell_type": "code",
   "execution_count": 25,
   "metadata": {},
   "outputs": [
    {
     "data": {
      "text/plain": [
       "\n",
       "Call:\n",
       "lm(formula = lxmert_score ~ len_caption + active.passive + gruen_score + \n",
       "    left_area + right_area + avg_concretness + avg_freq + verb_class, \n",
       "    data = active_passive)\n",
       "\n",
       "Residuals:\n",
       "     Min       1Q   Median       3Q      Max \n",
       "-0.99236 -0.26395  0.07282  0.24997  0.63314 \n",
       "\n",
       "Coefficients:\n",
       "                       Estimate Std. Error t value Pr(>|t|)    \n",
       "(Intercept)            3.081006   0.248585  12.394  < 2e-16 ***\n",
       "len_caption            0.034079   0.012816   2.659  0.00789 ** \n",
       "active.passivepassive -0.035628   0.029513  -1.207  0.22746    \n",
       "gruen_score           -0.555620   0.198682  -2.797  0.00521 ** \n",
       "left_area              0.307565   0.039786   7.731 1.55e-14 ***\n",
       "right_area             0.284728   0.039791   7.156 1.10e-12 ***\n",
       "avg_concretness       -0.007260   0.026778  -0.271  0.78633    \n",
       "avg_freq              -0.127465   0.006736 -18.924  < 2e-16 ***\n",
       "verb_classfeeds        0.107136   0.048625   2.203  0.02767 *  \n",
       "verb_classhelps        0.211941   0.044149   4.801 1.68e-06 ***\n",
       "verb_classholds        0.018987   0.039631   0.479  0.63191    \n",
       "verb_classlooks at    -0.076989   0.042935  -1.793  0.07307 .  \n",
       "verb_classother       -0.028835   0.036151  -0.798  0.42517    \n",
       "verb_classwatches      0.034039   0.034394   0.990  0.32243    \n",
       "---\n",
       "Signif. codes:  0 '***' 0.001 '**' 0.01 '*' 0.05 '.' 0.1 ' ' 1\n",
       "\n",
       "Residual standard error: 0.3137 on 2438 degrees of freedom\n",
       "Multiple R-squared:  0.2017,\tAdjusted R-squared:  0.1974 \n",
       "F-statistic: 47.37 on 13 and 2438 DF,  p-value: < 2.2e-16\n",
       "\n"
      ]
     },
     "metadata": {},
     "output_type": "display_data"
    }
   ],
   "source": [
    "%%R\n",
    "lxmert_lm = lm(lxmert_score~len_caption + active.passive + \n",
    "                gruen_score + left_area + right_area + \n",
    "                avg_concretness + avg_freq + verb_class, \n",
    "                data = active_passive)\n",
    "summary(lxmert_lm) "
   ]
  },
  {
   "cell_type": "code",
   "execution_count": 26,
   "metadata": {},
   "outputs": [
    {
     "data": {
      "text/plain": [
       "\n",
       "Call:\n",
       "lm(formula = clip_score ~ len_caption + active.passive + gruen_score + \n",
       "    left_area + right_area + avg_concretness + avg_freq + verb_class, \n",
       "    data = active_passive)\n",
       "\n",
       "Residuals:\n",
       "      Min        1Q    Median        3Q       Max \n",
       "-0.204331 -0.042822 -0.001366  0.040736  0.252019 \n",
       "\n",
       "Coefficients:\n",
       "                        Estimate Std. Error t value Pr(>|t|)    \n",
       "(Intercept)            1.1812700  0.0520933  22.676  < 2e-16 ***\n",
       "len_caption            0.0191685  0.0026857   7.137 1.25e-12 ***\n",
       "active.passivepassive -0.0216427  0.0061846  -3.499 0.000475 ***\n",
       "gruen_score           -0.0832447  0.0416357  -1.999 0.045680 *  \n",
       "left_area              0.0300392  0.0083375   3.603 0.000321 ***\n",
       "right_area             0.0186879  0.0083385   2.241 0.025105 *  \n",
       "avg_concretness        0.0271316  0.0056115   4.835 1.41e-06 ***\n",
       "avg_freq              -0.0432824  0.0014115 -30.663  < 2e-16 ***\n",
       "verb_classfeeds        0.0645552  0.0101897   6.335 2.81e-10 ***\n",
       "verb_classhelps        0.0777709  0.0092519   8.406  < 2e-16 ***\n",
       "verb_classholds        0.0127030  0.0083050   1.530 0.126255    \n",
       "verb_classlooks at     0.0155495  0.0089974   1.728 0.084075 .  \n",
       "verb_classother       -0.0005819  0.0075758  -0.077 0.938784    \n",
       "verb_classwatches      0.0074596  0.0072076   1.035 0.300788    \n",
       "---\n",
       "Signif. codes:  0 '***' 0.001 '**' 0.01 '*' 0.05 '.' 0.1 ' ' 1\n",
       "\n",
       "Residual standard error: 0.06574 on 2438 degrees of freedom\n",
       "Multiple R-squared:  0.3221,\tAdjusted R-squared:  0.3185 \n",
       "F-statistic: 89.11 on 13 and 2438 DF,  p-value: < 2.2e-16\n",
       "\n"
      ]
     },
     "metadata": {},
     "output_type": "display_data"
    }
   ],
   "source": [
    "%%R\n",
    "clip_lm = lm(clip_score~len_caption + active.passive + \n",
    "             gruen_score + left_area + right_area + \n",
    "             avg_concretness + avg_freq + verb_class, \n",
    "             data = active_passive)\n",
    "summary(clip_lm) "
   ]
  },
  {
   "cell_type": "markdown",
   "metadata": {},
   "source": [
    "### B.Prediction Accuracy"
   ]
  },
  {
   "cell_type": "code",
   "execution_count": 27,
   "metadata": {},
   "outputs": [
    {
     "data": {
      "text/plain": [
       "\n",
       "Call:\n",
       "glm(formula = vilbert_acc ~ len_caption + active.passive + gruen_score + \n",
       "    left_area + right_area + avg_concretness + avg_freq + verb_class, \n",
       "    family = binomial(), data = active_passive)\n",
       "\n",
       "Deviance Residuals: \n",
       "    Min       1Q   Median       3Q      Max  \n",
       "-1.5393  -1.1776   0.9683   1.1496   1.5549  \n",
       "\n",
       "Coefficients:\n",
       "                      Estimate Std. Error z value Pr(>|z|)   \n",
       "(Intercept)            2.43392    1.60116   1.520  0.12849   \n",
       "len_caption           -0.09265    0.08245  -1.124  0.26113   \n",
       "active.passivepassive  0.53966    0.19015   2.838  0.00454 **\n",
       "gruen_score           -2.44329    1.28360  -1.903  0.05698 . \n",
       "left_area             -0.84286    0.25780  -3.269  0.00108 **\n",
       "right_area             0.75680    0.25818   2.931  0.00338 **\n",
       "avg_concretness        0.07862    0.17200   0.457  0.64762   \n",
       "avg_freq              -0.01784    0.04327  -0.412  0.68022   \n",
       "verb_classfeeds        0.12312    0.31264   0.394  0.69372   \n",
       "verb_classhelps        0.07067    0.28388   0.249  0.80340   \n",
       "verb_classholds        0.10606    0.25551   0.415  0.67807   \n",
       "verb_classlooks at     0.23957    0.27636   0.867  0.38601   \n",
       "verb_classother        0.07217    0.23277   0.310  0.75652   \n",
       "verb_classwatches     -0.07393    0.22144  -0.334  0.73847   \n",
       "---\n",
       "Signif. codes:  0 '***' 0.001 '**' 0.01 '*' 0.05 '.' 0.1 ' ' 1\n",
       "\n",
       "(Dispersion parameter for binomial family taken to be 1)\n",
       "\n",
       "    Null deviance: 3397.7  on 2451  degrees of freedom\n",
       "Residual deviance: 3360.0  on 2438  degrees of freedom\n",
       "AIC: 3388\n",
       "\n",
       "Number of Fisher Scoring iterations: 4\n",
       "\n"
      ]
     },
     "metadata": {},
     "output_type": "display_data"
    }
   ],
   "source": [
    "%%R\n",
    "vilbert_lm = glm(vilbert_acc~len_caption + active.passive + \n",
    "                gruen_score + left_area + right_area + \n",
    "                avg_concretness + avg_freq + verb_class, \n",
    "                data = active_passive,\n",
    "                 family=binomial())\n",
    "summary(vilbert_lm) "
   ]
  },
  {
   "cell_type": "code",
   "execution_count": 28,
   "metadata": {},
   "outputs": [
    {
     "data": {
      "text/plain": [
       "\n",
       "Call:\n",
       "glm(formula = lxmert_acc ~ len_caption + active.passive + gruen_score + \n",
       "    left_area + right_area + avg_concretness + avg_freq + verb_class, \n",
       "    family = binomial(), data = active_passive)\n",
       "\n",
       "Deviance Residuals: \n",
       "   Min      1Q  Median      3Q     Max  \n",
       "-1.295  -1.147  -1.065   1.196   1.348  \n",
       "\n",
       "Coefficients:\n",
       "                      Estimate Std. Error z value Pr(>|z|)  \n",
       "(Intercept)           -0.55895    1.58912  -0.352   0.7250  \n",
       "len_caption            0.07265    0.08188   0.887   0.3750  \n",
       "active.passivepassive -0.11174    0.18854  -0.593   0.5534  \n",
       "gruen_score            0.01061    1.26938   0.008   0.9933  \n",
       "left_area             -0.20277    0.25477  -0.796   0.4261  \n",
       "right_area             0.13647    0.25433   0.537   0.5916  \n",
       "avg_concretness        0.09124    0.17114   0.533   0.5939  \n",
       "avg_freq              -0.00322    0.04309  -0.075   0.9404  \n",
       "verb_classfeeds       -0.34305    0.31134  -1.102   0.2705  \n",
       "verb_classhelps       -0.10098    0.28217  -0.358   0.7204  \n",
       "verb_classholds       -0.07323    0.25336  -0.289   0.7725  \n",
       "verb_classlooks at    -0.17349    0.27443  -0.632   0.5273  \n",
       "verb_classother       -0.20548    0.23119  -0.889   0.3741  \n",
       "verb_classwatches     -0.38672    0.22010  -1.757   0.0789 .\n",
       "---\n",
       "Signif. codes:  0 '***' 0.001 '**' 0.01 '*' 0.05 '.' 0.1 ' ' 1\n",
       "\n",
       "(Dispersion parameter for binomial family taken to be 1)\n",
       "\n",
       "    Null deviance: 3395.7  on 2451  degrees of freedom\n",
       "Residual deviance: 3386.0  on 2438  degrees of freedom\n",
       "AIC: 3414\n",
       "\n",
       "Number of Fisher Scoring iterations: 3\n",
       "\n"
      ]
     },
     "metadata": {},
     "output_type": "display_data"
    }
   ],
   "source": [
    "%%R\n",
    "lxmert_lm = glm(lxmert_acc ~ len_caption + active.passive + \n",
    "                gruen_score + left_area + right_area + \n",
    "                avg_concretness + avg_freq + verb_class, \n",
    "                data = active_passive, \n",
    "                family = binomial())\n",
    "summary(lxmert_lm)"
   ]
  },
  {
   "cell_type": "code",
   "execution_count": 29,
   "metadata": {},
   "outputs": [
    {
     "data": {
      "text/plain": [
       "\n",
       "Call:\n",
       "glm(formula = clip_acc ~ len_caption + active.passive + gruen_score + \n",
       "    left_area + right_area + avg_concretness + avg_freq + verb_class, \n",
       "    family = binomial(), data = active_passive)\n",
       "\n",
       "Deviance Residuals: \n",
       "    Min       1Q   Median       3Q      Max  \n",
       "-1.8105  -1.1593   0.6991   1.1493   1.7994  \n",
       "\n",
       "Coefficients:\n",
       "                      Estimate Std. Error z value Pr(>|z|)    \n",
       "(Intercept)            3.12500    1.61289   1.938   0.0527 .  \n",
       "len_caption            0.02636    0.08303   0.318   0.7509    \n",
       "active.passivepassive  0.26491    0.19120   1.385   0.1659    \n",
       "gruen_score           -3.27320    1.29198  -2.533   0.0113 *  \n",
       "left_area              1.36869    0.26442   5.176 2.26e-07 ***\n",
       "right_area            -1.60845    0.26687  -6.027 1.67e-09 ***\n",
       "avg_concretness        0.15659    0.17343   0.903   0.3666    \n",
       "avg_freq              -0.07186    0.04370  -1.644   0.1001    \n",
       "verb_classfeeds        0.36067    0.31503   1.145   0.2523    \n",
       "verb_classhelps        0.42682    0.28587   1.493   0.1354    \n",
       "verb_classholds        0.03253    0.25601   0.127   0.8989    \n",
       "verb_classlooks at     0.10968    0.27790   0.395   0.6931    \n",
       "verb_classother        0.03392    0.23378   0.145   0.8846    \n",
       "verb_classwatches     -0.07765    0.22253  -0.349   0.7271    \n",
       "---\n",
       "Signif. codes:  0 '***' 0.001 '**' 0.01 '*' 0.05 '.' 0.1 ' ' 1\n",
       "\n",
       "(Dispersion parameter for binomial family taken to be 1)\n",
       "\n",
       "    Null deviance: 3399.2  on 2451  degrees of freedom\n",
       "Residual deviance: 3325.5  on 2438  degrees of freedom\n",
       "AIC: 3353.5\n",
       "\n",
       "Number of Fisher Scoring iterations: 4\n",
       "\n"
      ]
     },
     "metadata": {},
     "output_type": "display_data"
    }
   ],
   "source": [
    "%%R\n",
    "clip_lm = glm(clip_acc ~ len_caption + active.passive + \n",
    "              gruen_score + left_area + right_area + \n",
    "              avg_concretness + avg_freq + verb_class, \n",
    "              data = active_passive, \n",
    "              family = binomial())\n",
    "summary(clip_lm)"
   ]
  },
  {
   "cell_type": "markdown",
   "metadata": {},
   "source": [
    "## 2. Coordination"
   ]
  },
  {
   "cell_type": "code",
   "execution_count": 30,
   "metadata": {},
   "outputs": [
    {
     "data": {
      "text/plain": [
       "[1] 3200   15\n",
       "  image_id                                              caption tag len_caption\n",
       "1       73       the man sits in a chair and wears a yellow tie   0          11\n",
       "2       73  the man wears a dark suit and wears a striped shirt   1          11\n",
       "3       73        the man sits in a chair and wears a dark suit   2          11\n",
       "4       73 the man wears a yellow tie and wears a striped shirt   3          11\n",
       "5      114             the man wears jeans and talks to a woman   0           9\n",
       "6      114       the woman wears blue jeans and has a black bag   1          10\n",
       "  gruen_score vilbert_score lxmert_score clip_score vilbert_acc lxmert_acc\n",
       "1   0.8901915  0.0437180959 0.0013240037  0.5865479           1          1\n",
       "2   0.8770395  0.0113117481 0.0011459220  0.5758667           0          0\n",
       "3   0.8915348  0.1259457767 0.0026982618  0.5798340           0          0\n",
       "4   0.8841286  0.0009914245 0.0004473907  0.5798340           1          1\n",
       "5   0.8624464  0.9994865656 0.9848293662  0.7086182           1          1\n",
       "6   0.8449289  0.1687796563 0.0036933934  0.6518555           0          0\n",
       "  clip_acc person_area feature_area avg_concretness avg_freq\n",
       "1        1  0.10170732   0.03111984        4.420000 17.25414\n",
       "2        0  0.09950047   0.03751290        4.356667 16.94804\n",
       "3        1  0.10170732   0.05463297        4.450000 17.21581\n",
       "4        0  0.09950047   0.01399977        4.331667 16.97998\n",
       "5        1  0.76132202   0.23130035        4.207500 17.65776\n",
       "6        0  0.38026428   0.06478882        4.196667 17.95362\n"
      ]
     },
     "metadata": {},
     "output_type": "display_data"
    }
   ],
   "source": [
    "%%R\n",
    "coordination<-read.csv(file ='/Users/xinyichen/Desktop/Thesis/Dataset_Construction/datasets/analysis/coordination_scores.csv')\n",
    "print(dim(coordination))\n",
    "\n",
    "head(coordination)"
   ]
  },
  {
   "cell_type": "markdown",
   "metadata": {},
   "source": [
    "### A. Model Logit scores"
   ]
  },
  {
   "cell_type": "code",
   "execution_count": 31,
   "metadata": {},
   "outputs": [
    {
     "data": {
      "text/plain": [
       "\n",
       "Call:\n",
       "lm(formula = vilbert_score ~ len_caption + gruen_score + person_area + \n",
       "    feature_area + avg_concretness + avg_freq, data = coordination)\n",
       "\n",
       "Residuals:\n",
       "    Min      1Q  Median      3Q     Max \n",
       "-1.0297 -0.3874  0.0756  0.3635  0.6895 \n",
       "\n",
       "Coefficients:\n",
       "                 Estimate Std. Error t value Pr(>|t|)    \n",
       "(Intercept)      1.421201   0.315551   4.504 6.91e-06 ***\n",
       "len_caption      0.038093   0.005969   6.382 2.00e-10 ***\n",
       "gruen_score     -0.749740   0.132373  -5.664 1.61e-08 ***\n",
       "person_area      0.284241   0.046123   6.163 8.05e-10 ***\n",
       "feature_area     0.584713   0.075461   7.749 1.24e-14 ***\n",
       "avg_concretness  0.093116   0.039569   2.353   0.0187 *  \n",
       "avg_freq        -0.066228   0.012124  -5.463 5.05e-08 ***\n",
       "---\n",
       "Signif. codes:  0 '***' 0.001 '**' 0.01 '*' 0.05 '.' 0.1 ' ' 1\n",
       "\n",
       "Residual standard error: 0.3868 on 3193 degrees of freedom\n",
       "Multiple R-squared:  0.08608,\tAdjusted R-squared:  0.08436 \n",
       "F-statistic: 50.12 on 6 and 3193 DF,  p-value: < 2.2e-16\n",
       "\n"
      ]
     },
     "metadata": {},
     "output_type": "display_data"
    }
   ],
   "source": [
    "%%R\n",
    "vilbert_lm = lm(vilbert_score~len_caption + \n",
    "                gruen_score + person_area + feature_area + \n",
    "                avg_concretness + avg_freq, \n",
    "                data = coordination)\n",
    "summary(vilbert_lm) "
   ]
  },
  {
   "cell_type": "code",
   "execution_count": 32,
   "metadata": {},
   "outputs": [
    {
     "data": {
      "text/plain": [
       "\n",
       "Call:\n",
       "lm(formula = lxmert_score ~ len_caption + gruen_score + person_area + \n",
       "    feature_area + avg_concretness + avg_freq, data = coordination)\n",
       "\n",
       "Residuals:\n",
       "    Min      1Q  Median      3Q     Max \n",
       "-1.0595 -0.3181 -0.0942  0.3552  0.9014 \n",
       "\n",
       "Coefficients:\n",
       "                 Estimate Std. Error t value Pr(>|t|)    \n",
       "(Intercept)      2.820353   0.310953   9.070  < 2e-16 ***\n",
       "len_caption      0.053565   0.005882   9.107  < 2e-16 ***\n",
       "gruen_score     -1.533532   0.130445 -11.756  < 2e-16 ***\n",
       "person_area      0.173912   0.045451   3.826 0.000133 ***\n",
       "feature_area     0.600066   0.074362   8.070 9.89e-16 ***\n",
       "avg_concretness  0.079442   0.038993   2.037 0.041696 *  \n",
       "avg_freq        -0.120403   0.011947 -10.078  < 2e-16 ***\n",
       "---\n",
       "Signif. codes:  0 '***' 0.001 '**' 0.01 '*' 0.05 '.' 0.1 ' ' 1\n",
       "\n",
       "Residual standard error: 0.3812 on 3193 degrees of freedom\n",
       "Multiple R-squared:  0.1428,\tAdjusted R-squared:  0.1412 \n",
       "F-statistic: 88.63 on 6 and 3193 DF,  p-value: < 2.2e-16\n",
       "\n"
      ]
     },
     "metadata": {},
     "output_type": "display_data"
    }
   ],
   "source": [
    "%%R\n",
    "lxmert_lm = lm(lxmert_score~len_caption + \n",
    "                gruen_score + person_area + feature_area + \n",
    "                avg_concretness + avg_freq, \n",
    "                data = coordination)\n",
    "summary(lxmert_lm) "
   ]
  },
  {
   "cell_type": "code",
   "execution_count": 33,
   "metadata": {},
   "outputs": [
    {
     "data": {
      "text/plain": [
       "\n",
       "Call:\n",
       "lm(formula = clip_score ~ len_caption + gruen_score + person_area + \n",
       "    feature_area + avg_concretness + avg_freq, data = coordination)\n",
       "\n",
       "Residuals:\n",
       "     Min       1Q   Median       3Q      Max \n",
       "-0.28824 -0.05778 -0.00418  0.05578  0.33567 \n",
       "\n",
       "Coefficients:\n",
       "                 Estimate Std. Error t value Pr(>|t|)    \n",
       "(Intercept)      1.182570   0.068858  17.174  < 2e-16 ***\n",
       "len_caption      0.013248   0.001302  10.172  < 2e-16 ***\n",
       "gruen_score     -0.331611   0.028886 -11.480  < 2e-16 ***\n",
       "person_area      0.092916   0.010065   9.232  < 2e-16 ***\n",
       "feature_area     0.072527   0.016467   4.404  1.1e-05 ***\n",
       "avg_concretness -0.012508   0.008635  -1.449    0.148    \n",
       "avg_freq        -0.023069   0.002646  -8.720  < 2e-16 ***\n",
       "---\n",
       "Signif. codes:  0 '***' 0.001 '**' 0.01 '*' 0.05 '.' 0.1 ' ' 1\n",
       "\n",
       "Residual standard error: 0.08441 on 3193 degrees of freedom\n",
       "Multiple R-squared:  0.1307,\tAdjusted R-squared:  0.1291 \n",
       "F-statistic: 80.03 on 6 and 3193 DF,  p-value: < 2.2e-16\n",
       "\n"
      ]
     },
     "metadata": {},
     "output_type": "display_data"
    }
   ],
   "source": [
    "%%R\n",
    "clip_lm = lm(clip_score~len_caption + \n",
    "                gruen_score + person_area + feature_area + \n",
    "                avg_concretness + avg_freq, \n",
    "                data = coordination)\n",
    "summary(clip_lm) "
   ]
  },
  {
   "cell_type": "markdown",
   "metadata": {},
   "source": [
    "### B.Prediction Accuracy"
   ]
  },
  {
   "cell_type": "code",
   "execution_count": 34,
   "metadata": {},
   "outputs": [
    {
     "data": {
      "text/plain": [
       "\n",
       "Call:\n",
       "glm(formula = vilbert_acc ~ len_caption + gruen_score + person_area + \n",
       "    feature_area + avg_concretness + avg_freq, family = binomial(), \n",
       "    data = coordination)\n",
       "\n",
       "Deviance Residuals: \n",
       "   Min      1Q  Median      3Q     Max  \n",
       "-1.318  -1.180   1.080   1.171   1.316  \n",
       "\n",
       "Coefficients:\n",
       "                Estimate Std. Error z value Pr(>|z|)\n",
       "(Intercept)     -0.61744    1.63321  -0.378    0.705\n",
       "len_caption      0.01638    0.03089   0.530    0.596\n",
       "gruen_score     -0.05320    0.68507  -0.078    0.938\n",
       "person_area      0.33176    0.23893   1.389    0.165\n",
       "feature_area    -0.28845    0.39085  -0.738    0.461\n",
       "avg_concretness -0.20321    0.20489  -0.992    0.321\n",
       "avg_freq         0.07595    0.06278   1.210    0.226\n",
       "\n",
       "(Dispersion parameter for binomial family taken to be 1)\n",
       "\n",
       "    Null deviance: 4436.1  on 3199  degrees of freedom\n",
       "Residual deviance: 4430.7  on 3193  degrees of freedom\n",
       "AIC: 4444.7\n",
       "\n",
       "Number of Fisher Scoring iterations: 3\n",
       "\n"
      ]
     },
     "metadata": {},
     "output_type": "display_data"
    }
   ],
   "source": [
    "%%R\n",
    "vilbert_lm = glm(vilbert_acc~len_caption + \n",
    "                 gruen_score + person_area + feature_area + \n",
    "                 avg_concretness + avg_freq, \n",
    "                 data = coordination,\n",
    "                 family=binomial())\n",
    "summary(vilbert_lm) "
   ]
  },
  {
   "cell_type": "code",
   "execution_count": 35,
   "metadata": {},
   "outputs": [
    {
     "data": {
      "text/plain": [
       "\n",
       "Call:\n",
       "glm(formula = lxmert_acc ~ len_caption + gruen_score + person_area + \n",
       "    feature_area + avg_concretness + avg_freq, family = binomial(), \n",
       "    data = coordination)\n",
       "\n",
       "Deviance Residuals: \n",
       "   Min      1Q  Median      3Q     Max  \n",
       "-1.269  -1.179   1.098   1.175   1.282  \n",
       "\n",
       "Coefficients:\n",
       "                Estimate Std. Error z value Pr(>|z|)\n",
       "(Intercept)     -1.11373    1.63299  -0.682    0.495\n",
       "len_caption     -0.03014    0.03089  -0.976    0.329\n",
       "gruen_score     -0.35978    0.68493  -0.525    0.599\n",
       "person_area      0.07224    0.23863   0.303    0.762\n",
       "feature_area    -0.06152    0.39047  -0.158    0.875\n",
       "avg_concretness  0.03385    0.20473   0.165    0.869\n",
       "avg_freq         0.09185    0.06278   1.463    0.143\n",
       "\n",
       "(Dispersion parameter for binomial family taken to be 1)\n",
       "\n",
       "    Null deviance: 4436.1  on 3199  degrees of freedom\n",
       "Residual deviance: 4432.7  on 3193  degrees of freedom\n",
       "AIC: 4446.7\n",
       "\n",
       "Number of Fisher Scoring iterations: 3\n",
       "\n"
      ]
     },
     "metadata": {},
     "output_type": "display_data"
    }
   ],
   "source": [
    "%%R\n",
    "lxmert_lm = glm(lxmert_acc ~ len_caption + \n",
    "                gruen_score + person_area + feature_area + \n",
    "                avg_concretness + avg_freq, \n",
    "                data = coordination,\n",
    "                family = binomial())\n",
    "summary(lxmert_lm)"
   ]
  },
  {
   "cell_type": "code",
   "execution_count": 36,
   "metadata": {},
   "outputs": [
    {
     "data": {
      "text/plain": [
       "\n",
       "Call:\n",
       "glm(formula = clip_acc ~ len_caption + gruen_score + person_area + \n",
       "    feature_area + avg_concretness + avg_freq, family = binomial(), \n",
       "    data = coordination)\n",
       "\n",
       "Deviance Residuals: \n",
       "   Min      1Q  Median      3Q     Max  \n",
       "-1.313  -1.170  -1.098   1.181   1.271  \n",
       "\n",
       "Coefficients:\n",
       "                Estimate Std. Error z value Pr(>|z|)\n",
       "(Intercept)     -1.07502    1.63339  -0.658    0.510\n",
       "len_caption     -0.02015    0.03090  -0.652    0.514\n",
       "gruen_score     -0.60918    0.68521  -0.889    0.374\n",
       "person_area      0.36570    0.23898   1.530    0.126\n",
       "feature_area    -0.09651    0.39065  -0.247    0.805\n",
       "avg_concretness  0.15146    0.20484   0.739    0.460\n",
       "avg_freq         0.06319    0.06277   1.007    0.314\n",
       "\n",
       "(Dispersion parameter for binomial family taken to be 1)\n",
       "\n",
       "    Null deviance: 4436.1  on 3199  degrees of freedom\n",
       "Residual deviance: 4430.8  on 3193  degrees of freedom\n",
       "AIC: 4444.8\n",
       "\n",
       "Number of Fisher Scoring iterations: 3\n",
       "\n"
      ]
     },
     "metadata": {},
     "output_type": "display_data"
    }
   ],
   "source": [
    "%%R\n",
    "clip_lm = glm(clip_acc ~ len_caption + \n",
    "              gruen_score + person_area + feature_area + \n",
    "              avg_concretness + avg_freq, \n",
    "              data = coordination, \n",
    "              family = binomial())\n",
    "summary(clip_lm)"
   ]
  },
  {
   "cell_type": "markdown",
   "metadata": {},
   "source": [
    "## 3. Relative Clause"
   ]
  },
  {
   "cell_type": "code",
   "execution_count": 37,
   "metadata": {},
   "outputs": [
    {
     "data": {
      "text/plain": [
       "[1] 3156   15\n",
       "  image_id                                              caption tag len_caption\n",
       "1       73       the man who sits in a chair wears a yellow tie   0          11\n",
       "2       73  the man who wears a dark suit wears a striped shirt   1          11\n",
       "3       73        the man who sits in a chair wears a dark suit   2          11\n",
       "4       73 the man who wears a yellow tie wears a striped shirt   3          11\n",
       "5      114             the man who wears jeans talks to a woman   0           9\n",
       "6      114       the woman who wears blue jeans has a black bag   1          10\n",
       "  gruen_score vilbert_score lxmert_score clip_score vilbert_acc lxmert_acc\n",
       "1   0.9026019  0.0208929516  0.010895064  0.5972290           1          1\n",
       "2   0.8951782  0.0030271155  0.004868235  0.5728149           0          0\n",
       "3   0.9006875  0.0566759370  0.019792981  0.5795288           0          0\n",
       "4   0.8976881  0.0006559394  0.002098606  0.5804443           1          1\n",
       "5   0.8559395  0.9994852543  0.993768454  0.7189941           1          1\n",
       "6   0.8059355  0.3092165589  0.011426598  0.6341553           0          0\n",
       "  clip_acc person_area feature_area avg_concretness avg_freq\n",
       "1        1  0.10170732   0.03111984        4.420000 17.25414\n",
       "2        0  0.09950047   0.03751290        4.356667 16.94804\n",
       "3        1  0.10170732   0.05463297        4.450000 17.21581\n",
       "4        0  0.09950047   0.01399977        4.331667 16.97998\n",
       "5        1  0.76132202   0.23130035        4.207500 17.65776\n",
       "6        0  0.38026428   0.06478882        4.196667 17.95362\n"
      ]
     },
     "metadata": {},
     "output_type": "display_data"
    }
   ],
   "source": [
    "%%R\n",
    "rc<-read.csv(file ='/Users/xinyichen/Desktop/Thesis/Dataset_Construction/datasets/analysis/relative_clause_scores.csv')\n",
    "print(dim(rc))\n",
    "\n",
    "head(rc)"
   ]
  },
  {
   "cell_type": "markdown",
   "metadata": {},
   "source": [
    "### A. Model Logit scores"
   ]
  },
  {
   "cell_type": "code",
   "execution_count": 38,
   "metadata": {},
   "outputs": [
    {
     "data": {
      "text/plain": [
       "\n",
       "Call:\n",
       "lm(formula = vilbert_score ~ len_caption + gruen_score + person_area + \n",
       "    feature_area + avg_concretness + avg_freq, data = rc)\n",
       "\n",
       "Residuals:\n",
       "     Min       1Q   Median       3Q      Max \n",
       "-1.09999 -0.38476  0.07279  0.35999  0.72016 \n",
       "\n",
       "Coefficients:\n",
       "                 Estimate Std. Error t value Pr(>|t|)    \n",
       "(Intercept)      1.189495   0.313791   3.791 0.000153 ***\n",
       "len_caption      0.027666   0.006069   4.559 5.34e-06 ***\n",
       "gruen_score     -0.685643   0.125891  -5.446 5.54e-08 ***\n",
       "person_area      0.252932   0.046541   5.435 5.91e-08 ***\n",
       "feature_area     0.748709   0.074337  10.072  < 2e-16 ***\n",
       "avg_concretness  0.152773   0.039498   3.868 0.000112 ***\n",
       "avg_freq        -0.064448   0.012209  -5.279 1.39e-07 ***\n",
       "---\n",
       "Signif. codes:  0 '***' 0.001 '**' 0.01 '*' 0.05 '.' 0.1 ' ' 1\n",
       "\n",
       "Residual standard error: 0.3848 on 3149 degrees of freedom\n",
       "Multiple R-squared:  0.09756,\tAdjusted R-squared:  0.09584 \n",
       "F-statistic: 56.74 on 6 and 3149 DF,  p-value: < 2.2e-16\n",
       "\n"
      ]
     },
     "metadata": {},
     "output_type": "display_data"
    }
   ],
   "source": [
    "%%R\n",
    "vilbert_lm = lm(vilbert_score~len_caption + \n",
    "                gruen_score + person_area + feature_area + \n",
    "                avg_concretness + avg_freq, \n",
    "                data = rc)\n",
    "summary(vilbert_lm) "
   ]
  },
  {
   "cell_type": "code",
   "execution_count": 39,
   "metadata": {},
   "outputs": [
    {
     "data": {
      "text/plain": [
       "\n",
       "Call:\n",
       "lm(formula = lxmert_score ~ len_caption + gruen_score + person_area + \n",
       "    feature_area + avg_concretness + avg_freq, data = rc)\n",
       "\n",
       "Residuals:\n",
       "     Min       1Q   Median       3Q      Max \n",
       "-1.11230 -0.33916 -0.05046  0.36614  0.87541 \n",
       "\n",
       "Coefficients:\n",
       "                 Estimate Std. Error t value Pr(>|t|)    \n",
       "(Intercept)      2.020879   0.313287   6.451 1.29e-10 ***\n",
       "len_caption      0.044687   0.006059   7.376 2.08e-13 ***\n",
       "gruen_score     -1.204987   0.125689  -9.587  < 2e-16 ***\n",
       "person_area      0.262942   0.046467   5.659 1.66e-08 ***\n",
       "feature_area     0.707534   0.074218   9.533  < 2e-16 ***\n",
       "avg_concretness  0.155061   0.039434   3.932 8.60e-05 ***\n",
       "avg_freq        -0.101913   0.012190  -8.361  < 2e-16 ***\n",
       "---\n",
       "Signif. codes:  0 '***' 0.001 '**' 0.01 '*' 0.05 '.' 0.1 ' ' 1\n",
       "\n",
       "Residual standard error: 0.3842 on 3149 degrees of freedom\n",
       "Multiple R-squared:  0.1383,\tAdjusted R-squared:  0.1367 \n",
       "F-statistic: 84.25 on 6 and 3149 DF,  p-value: < 2.2e-16\n",
       "\n"
      ]
     },
     "metadata": {},
     "output_type": "display_data"
    }
   ],
   "source": [
    "%%R\n",
    "lxmert_lm = lm(lxmert_score~len_caption + \n",
    "                gruen_score + person_area + feature_area + \n",
    "                avg_concretness + avg_freq, \n",
    "                data = rc)\n",
    "summary(lxmert_lm) "
   ]
  },
  {
   "cell_type": "code",
   "execution_count": 40,
   "metadata": {},
   "outputs": [
    {
     "data": {
      "text/plain": [
       "\n",
       "Call:\n",
       "lm(formula = clip_score ~ len_caption + gruen_score + person_area + \n",
       "    feature_area + avg_concretness + avg_freq, data = rc)\n",
       "\n",
       "Residuals:\n",
       "      Min        1Q    Median        3Q       Max \n",
       "-0.289428 -0.057944 -0.002416  0.054173  0.271637 \n",
       "\n",
       "Coefficients:\n",
       "                 Estimate Std. Error t value Pr(>|t|)    \n",
       "(Intercept)      1.145256   0.067390  16.994  < 2e-16 ***\n",
       "len_caption      0.012722   0.001303   9.762  < 2e-16 ***\n",
       "gruen_score     -0.219194   0.027037  -8.107 7.33e-16 ***\n",
       "person_area      0.077961   0.009995   7.800 8.37e-15 ***\n",
       "feature_area     0.090756   0.015965   5.685 1.43e-08 ***\n",
       "avg_concretness -0.006042   0.008483  -0.712    0.476    \n",
       "avg_freq        -0.027888   0.002622 -10.636  < 2e-16 ***\n",
       "---\n",
       "Signif. codes:  0 '***' 0.001 '**' 0.01 '*' 0.05 '.' 0.1 ' ' 1\n",
       "\n",
       "Residual standard error: 0.08265 on 3149 degrees of freedom\n",
       "Multiple R-squared:  0.1205,\tAdjusted R-squared:  0.1188 \n",
       "F-statistic: 71.91 on 6 and 3149 DF,  p-value: < 2.2e-16\n",
       "\n"
      ]
     },
     "metadata": {},
     "output_type": "display_data"
    }
   ],
   "source": [
    "%%R\n",
    "clip_lm = lm(clip_score~len_caption + \n",
    "                gruen_score + person_area + feature_area + \n",
    "                avg_concretness + avg_freq, \n",
    "                data = rc)\n",
    "summary(clip_lm) "
   ]
  },
  {
   "cell_type": "markdown",
   "metadata": {},
   "source": [
    "### B.Prediction Accuracy"
   ]
  },
  {
   "cell_type": "code",
   "execution_count": 41,
   "metadata": {},
   "outputs": [
    {
     "data": {
      "text/plain": [
       "\n",
       "Call:\n",
       "glm(formula = vilbert_acc ~ len_caption + gruen_score + person_area + \n",
       "    feature_area + avg_concretness + avg_freq, family = binomial(), \n",
       "    data = rc)\n",
       "\n",
       "Deviance Residuals: \n",
       "   Min      1Q  Median      3Q     Max  \n",
       "-1.266  -1.181   1.094   1.173   1.303  \n",
       "\n",
       "Coefficients:\n",
       "                Estimate Std. Error z value Pr(>|z|)\n",
       "(Intercept)     -1.04759    1.63186  -0.642    0.521\n",
       "len_caption      0.01054    0.03156   0.334    0.738\n",
       "gruen_score      0.28330    0.65461   0.433    0.665\n",
       "person_area      0.31883    0.24225   1.316    0.188\n",
       "feature_area    -0.36804    0.38717  -0.951    0.342\n",
       "avg_concretness -0.05157    0.20540  -0.251    0.802\n",
       "avg_freq         0.05124    0.06350   0.807    0.420\n",
       "\n",
       "(Dispersion parameter for binomial family taken to be 1)\n",
       "\n",
       "    Null deviance: 4375.1  on 3155  degrees of freedom\n",
       "Residual deviance: 4371.7  on 3149  degrees of freedom\n",
       "AIC: 4385.7\n",
       "\n",
       "Number of Fisher Scoring iterations: 3\n",
       "\n"
      ]
     },
     "metadata": {},
     "output_type": "display_data"
    }
   ],
   "source": [
    "%%R\n",
    "vilbert_lm = glm(vilbert_acc~len_caption + \n",
    "                gruen_score + person_area + feature_area + \n",
    "                avg_concretness + avg_freq, \n",
    "                data = rc,\n",
    "                 family=binomial())\n",
    "summary(vilbert_lm) "
   ]
  },
  {
   "cell_type": "code",
   "execution_count": 42,
   "metadata": {},
   "outputs": [
    {
     "data": {
      "text/plain": [
       "\n",
       "Call:\n",
       "glm(formula = lxmert_acc ~ len_caption + gruen_score + person_area + \n",
       "    feature_area + avg_concretness + avg_freq, family = binomial(), \n",
       "    data = rc)\n",
       "\n",
       "Deviance Residuals: \n",
       "     Min        1Q    Median        3Q       Max  \n",
       "-1.27156  -1.17573   0.00273   1.17836   1.25762  \n",
       "\n",
       "Coefficients:\n",
       "                Estimate Std. Error z value Pr(>|z|)\n",
       "(Intercept)     -0.33305    1.63155  -0.204    0.838\n",
       "len_caption     -0.03399    0.03157  -1.077    0.282\n",
       "gruen_score     -0.27601    0.65457  -0.422    0.673\n",
       "person_area      0.19962    0.24207   0.825    0.410\n",
       "feature_area     0.02424    0.38652   0.063    0.950\n",
       "avg_concretness  0.08544    0.20539   0.416    0.677\n",
       "avg_freq         0.03018    0.06348   0.475    0.635\n",
       "\n",
       "(Dispersion parameter for binomial family taken to be 1)\n",
       "\n",
       "    Null deviance: 4375.1  on 3155  degrees of freedom\n",
       "Residual deviance: 4372.6  on 3149  degrees of freedom\n",
       "AIC: 4386.6\n",
       "\n",
       "Number of Fisher Scoring iterations: 3\n",
       "\n"
      ]
     },
     "metadata": {},
     "output_type": "display_data"
    }
   ],
   "source": [
    "%%R\n",
    "lxmert_lm = glm(lxmert_acc ~ len_caption + \n",
    "                gruen_score + person_area + feature_area + \n",
    "                avg_concretness + avg_freq, \n",
    "                data = rc, \n",
    "                family = binomial())\n",
    "summary(lxmert_lm)"
   ]
  },
  {
   "cell_type": "code",
   "execution_count": 43,
   "metadata": {},
   "outputs": [
    {
     "data": {
      "text/plain": [
       "\n",
       "Call:\n",
       "glm(formula = clip_acc ~ len_caption + gruen_score + person_area + \n",
       "    feature_area + avg_concretness + avg_freq, family = binomial(), \n",
       "    data = rc)\n",
       "\n",
       "Deviance Residuals: \n",
       "   Min      1Q  Median      3Q     Max  \n",
       "-1.335  -1.182   1.061   1.169   1.299  \n",
       "\n",
       "Coefficients:\n",
       "                 Estimate Std. Error z value Pr(>|z|)  \n",
       "(Intercept)     -2.697067   1.634270  -1.650   0.0989 .\n",
       "len_caption      0.005615   0.031578   0.178   0.8589  \n",
       "gruen_score      0.100795   0.655073   0.154   0.8777  \n",
       "person_area      0.388121   0.242604   1.600   0.1096  \n",
       "feature_area     0.169477   0.387145   0.438   0.6616  \n",
       "avg_concretness  0.109326   0.205546   0.532   0.5948  \n",
       "avg_freq         0.116780   0.063605   1.836   0.0664 .\n",
       "---\n",
       "Signif. codes:  0 '***' 0.001 '**' 0.01 '*' 0.05 '.' 0.1 ' ' 1\n",
       "\n",
       "(Dispersion parameter for binomial family taken to be 1)\n",
       "\n",
       "    Null deviance: 4374.8  on 3155  degrees of freedom\n",
       "Residual deviance: 4367.6  on 3149  degrees of freedom\n",
       "AIC: 4381.6\n",
       "\n",
       "Number of Fisher Scoring iterations: 3\n",
       "\n"
      ]
     },
     "metadata": {},
     "output_type": "display_data"
    }
   ],
   "source": [
    "%%R\n",
    "clip_lm = glm(clip_acc ~ len_caption + \n",
    "              gruen_score + person_area + feature_area + \n",
    "              avg_concretness + avg_freq,\n",
    "              data = rc, \n",
    "              family = binomial())\n",
    "summary(clip_lm)"
   ]
  }
 ],
 "metadata": {
  "interpreter": {
   "hash": "2e5059f9cbbd1aca536958c10832c42fdde0aeb34db05a6e0d478f897ca2fdfc"
  },
  "kernelspec": {
   "display_name": "Python 3.6.10 ('pythonR')",
   "language": "python",
   "name": "python3"
  },
  "language_info": {
   "codemirror_mode": {
    "name": "ipython",
    "version": 3
   },
   "file_extension": ".py",
   "mimetype": "text/x-python",
   "name": "python",
   "nbconvert_exporter": "python",
   "pygments_lexer": "ipython3",
   "version": "3.6.10"
  },
  "orig_nbformat": 4
 },
 "nbformat": 4,
 "nbformat_minor": 2
}
